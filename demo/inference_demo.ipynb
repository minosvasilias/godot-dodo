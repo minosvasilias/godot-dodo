{
 "cells": [
  {
   "attachments": {},
   "cell_type": "markdown",
   "metadata": {
    "id": "xf3pUNyVO3WS"
   },
   "source": [
    "# godot-dodo \n",
    "\n",
    "This is a demo to run inferences on pretrained godot-dodo models.\n",
    "Visit the [GitHub Repository](https://github.com/minosvasilias/godot-dodo) for more info.\n",
    "\n",
    "\n",
    "## Check active GPU\n",
    "\n",
    "Run `nvidia-smi` to retrieve GPU and memory information about current instance. The standard `Tesla T4` instance is capable of running 7b and 13b models."
   ]
  },
  {
   "cell_type": "code",
   "execution_count": null,
   "metadata": {
    "colab": {
     "base_uri": "https://localhost:8080/"
    },
    "id": "L2MoM27rfaKK",
    "outputId": "53175950-3269-4296-9425-3652c81ce9b7"
   },
   "outputs": [
    {
     "name": "stdout",
     "output_type": "stream",
     "text": [
      "Wed Mar 22 12:11:41 2023       \n",
      "+-----------------------------------------------------------------------------+\n",
      "| NVIDIA-SMI 525.85.12    Driver Version: 525.85.12    CUDA Version: 12.0     |\n",
      "|-------------------------------+----------------------+----------------------+\n",
      "| GPU  Name        Persistence-M| Bus-Id        Disp.A | Volatile Uncorr. ECC |\n",
      "| Fan  Temp  Perf  Pwr:Usage/Cap|         Memory-Usage | GPU-Util  Compute M. |\n",
      "|                               |                      |               MIG M. |\n",
      "|===============================+======================+======================|\n",
      "|   0  Tesla T4            Off  | 00000000:00:04.0 Off |                    0 |\n",
      "| N/A   41C    P0    24W /  70W |      0MiB / 15360MiB |      0%      Default |\n",
      "|                               |                      |                  N/A |\n",
      "+-------------------------------+----------------------+----------------------+\n",
      "                                                                               \n",
      "+-----------------------------------------------------------------------------+\n",
      "| Processes:                                                                  |\n",
      "|  GPU   GI   CI        PID   Type   Process name                  GPU Memory |\n",
      "|        ID   ID                                                   Usage      |\n",
      "|=============================================================================|\n",
      "|  No running processes found                                                 |\n",
      "+-----------------------------------------------------------------------------+\n"
     ]
    }
   ],
   "source": [
    "!nvidia-smi"
   ]
  },
  {
   "attachments": {},
   "cell_type": "markdown",
   "metadata": {
    "id": "N0MDD9TuPTfJ"
   },
   "source": [
    "## Clone the repository"
   ]
  },
  {
   "cell_type": "code",
   "execution_count": null,
   "metadata": {
    "id": "a_i5DKBNnzAK"
   },
   "outputs": [],
   "source": [
    "!git clone https://github.com/minosvasilias/godot-dodo.git"
   ]
  },
  {
   "cell_type": "code",
   "execution_count": null,
   "metadata": {
    "colab": {
     "base_uri": "https://localhost:8080/"
    },
    "id": "wR-M8u7gsQqg",
    "outputId": "eb7b24ba-10e4-46d5-cf8f-852d9fac8170"
   },
   "outputs": [],
   "source": [
    "%cd godot-dodo"
   ]
  },
  {
   "attachments": {},
   "cell_type": "markdown",
   "metadata": {
    "id": "XG8oy7BBPdMh"
   },
   "source": [
    "## Install dependencies"
   ]
  },
  {
   "cell_type": "code",
   "execution_count": null,
   "metadata": {
    "colab": {
     "base_uri": "https://localhost:8080/"
    },
    "id": "moN-15x_ifHE",
    "outputId": "a7ec61ff-28cb-4ac4-a0ca-6a5cba060579"
   },
   "outputs": [],
   "source": [
    "!pip install -r requirements.txt"
   ]
  },
  {
   "attachments": {},
   "cell_type": "markdown",
   "metadata": {
    "id": "Cr3bQkSePfrG"
   },
   "source": [
    "## Select model"
   ]
  },
  {
   "cell_type": "code",
   "execution_count": 14,
   "metadata": {
    "id": "4Wg0eqnkPnq-"
   },
   "outputs": [],
   "source": [
    "#@title Choose a pre-trained model from Huggingface\n",
    "model = 'minosu/godot_dodo_4x_60k_llama_7b' #@param [\"minosu/godot_dodo_4x_60k_llama_7b\", \"minosu/godot_dodo_4x_60k_llama_13b\"]"
   ]
  },
  {
   "attachments": {},
   "cell_type": "markdown",
   "metadata": {
    "id": "b81jhdtcQyOP"
   },
   "source": [
    "## Launch demo\n",
    "\n",
    "This will download the selected pretrained model and launch a gradio app that can be used for inference.\n",
    "\n",
    "Once setup has completed, navigate to the URL displayed after `Running on public URL:`"
   ]
  },
  {
   "cell_type": "code",
   "execution_count": null,
   "metadata": {
    "id": "y3qpzBw2jMHq"
   },
   "outputs": [],
   "source": [
    "!python finetune/eval.py --model_name_or_path $model --load_in_8bit True --launch_gradio True"
   ]
  }
 ],
 "metadata": {
  "accelerator": "GPU",
  "colab": {
   "machine_shape": "hm",
   "provenance": []
  },
  "gpuClass": "premium",
  "kernelspec": {
   "display_name": "Python 3",
   "language": "python",
   "name": "python3"
  },
  "language_info": {
   "codemirror_mode": {
    "name": "ipython",
    "version": 3
   },
   "file_extension": ".py",
   "mimetype": "text/x-python",
   "name": "python",
   "nbconvert_exporter": "python",
   "pygments_lexer": "ipython3",
   "version": "3.8.12"
  }
 },
 "nbformat": 4,
 "nbformat_minor": 4
}
